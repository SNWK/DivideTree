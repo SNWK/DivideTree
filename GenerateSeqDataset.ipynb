{
 "cells": [
  {
   "cell_type": "code",
   "execution_count": 1,
   "metadata": {},
   "outputs": [],
   "source": [
    "import os\n",
    "import shutil\n",
    "import subprocess\n",
    "import numpy as np\n",
    "import pandas as pd\n",
    "import matplotlib.pyplot as plt\n",
    "from tqdm import tqdm\n",
    "import time\n",
    "from utils.shapefiles import sampleShapefileLocations\n",
    "from analysis.peaksdata import filterPeaksHaversineDist\n",
    "from utils.divtree_gen import *\n",
    "from utils.seqdata_gen import *\n",
    "from utils.seq2demodst import *\n",
    "# process each region (note: it takes a long time!)\n",
    "regionShapesDir = 'data/regionShapes'\n",
    "regionPeaksDir = 'data/regionPeaks'\n",
    "regionSeqsDir = 'data/regionSeqs'\n",
    "regionTreeSeqsDir = 'data/regionTreeSeqs'\n",
    "diskRadius = 30\n",
    "\n",
    "regionShapes = ['andes_peru.shp']"
   ]
  },
  {
   "cell_type": "markdown",
   "metadata": {},
   "source": [
    "## For RNN, sequence representation of the tree"
   ]
  },
  {
   "cell_type": "code",
   "execution_count": 2,
   "metadata": {},
   "outputs": [
    {
     "name": "stderr",
     "output_type": "stream",
     "text": "0it [00:00, ?it/s]andes_peru.shp :  204 samples\n155it [22:31, 16.79s/it]"
    }
   ],
   "source": [
    "\n",
    "\n",
    "for region in regionShapes:\n",
    "    st = time.time()\n",
    "    # sample stats locations inside polygon, separated at least 1/2 radius distance\n",
    "    sampleLocations = sampleShapefileLocations(os.path.join(regionShapesDir, region), diskRadius)\n",
    "    print(region, \": \", len(sampleLocations), \"samples\")\n",
    "    # region peaks DB\n",
    "    df = pd.read_csv(os.path.join(regionPeaksDir, region.replace('.shp', '.csv')))\n",
    "\n",
    "    allTrees = []\n",
    "    # compute sequences\n",
    "    for di,diskCenter in tqdm(enumerate(sampleLocations)):\n",
    "        # filter peaks in disk using haversine distance\n",
    "        peaks = filterPeaksHaversineDist(df, diskCenter, diskRadius)\n",
    "        # skip if not enough peaks\n",
    "        if peaks.shape[0] < 20:\n",
    "            continue\n",
    "        # build the divide tree\n",
    "        rootNode = genDivideTree(peaks)\n",
    "        seqOfTree = genFullSeq(rootNode, isDFS=True)\n",
    "        allTrees.append(seqOfTree)\n",
    "    fout = open(os.path.join(regionTreeSeqsDir, region.replace('.shp', '.txt')), 'w') \n",
    "    for seqTree in allTrees:\n",
    "        fout.write(\",\".join( [\";\".join([str(i) for i in v] ) for v in seqTree]))\n",
    "        fout.write('\\n')\n",
    "    fout.close()\n",
    "\n",
    "    print('%s: %3d samples, %3d sequences, %d s'%(region, len(sampleLocations), len(allTrees), time.time() - st)) \n",
    "\n",
    "print('done!')"
   ]
  },
  {
   "cell_type": "markdown",
   "metadata": {},
   "source": [
    "## Test, Find max-min for normalization"
   ]
  },
  {
   "cell_type": "code",
   "execution_count": 4,
   "metadata": {},
   "outputs": [
    {
     "name": "stdout",
     "output_type": "stream",
     "text": "[2.0000000e+00 9.6362337e-02 2.4674011e+00 7.0630000e+03 4.8290000e+03]\n[ 0.0000000e+00  0.0000000e+00 -2.4674011e+00 -7.2730000e+03\n -8.9010000e+03]\n[ 1.00000000e+00  5.82338436e-03  3.53011098e-04 -4.08048894e+01\n -6.09073419e+00]\n[7.80366815e-01 8.92329409e-03 9.01809552e-01 4.06576094e+02\n 2.59961662e+02]\n"
    }
   ],
   "source": [
    "for region in regionShapes:\n",
    "    file_in = open(os.path.join(regionTreeSeqsDir, region.replace('.shp', '.txt')), 'r')\n",
    "    allpoints = []\n",
    "    for line in file_in.readlines():\n",
    "        for s in line.split(','):\n",
    "            allpoints.append([float(c) for c in s.split(';')])\n",
    "    allpoints = np.array(allpoints)\n",
    "    datamax = allpoints.max(axis=0)\n",
    "    datamin = allpoints.min(axis=0)\n",
    "    datamean = allpoints.mean(axis=0)\n",
    "    datastd = allpoints.std(axis=0)\n",
    "    print(datamax)\n",
    "    print(datamin)\n",
    "    print(datamean)\n",
    "    print(datastd)"
   ]
  },
  {
   "cell_type": "markdown",
   "metadata": {},
   "source": [
    "## For Demo"
   ]
  },
  {
   "cell_type": "code",
   "execution_count": null,
   "metadata": {},
   "outputs": [],
   "source": [
    "\n",
    "\n",
    "for region in regionShapes:\n",
    "    st = time.time()\n",
    "    # sample stats locations inside polygon, separated at least 1/2 radius distance\n",
    "    sampleLocations = sampleShapefileLocations(os.path.join(regionShapesDir, region), diskRadius)\n",
    "    print(region, \": \", len(sampleLocations), \"samples\")\n",
    "    # region peaks DB\n",
    "    df = pd.read_csv(os.path.join(regionPeaksDir, region.replace('.shp', '.csv')))\n",
    "\n",
    "    allSeqs = []\n",
    "    # compute sequences\n",
    "    for di,diskCenter in enumerate(sampleLocations):\n",
    "        # filter peaks in disk using haversine distance\n",
    "        peaks = filterPeaksHaversineDist(df, diskCenter, diskRadius)\n",
    "        # skip if not enough peaks\n",
    "        if peaks.shape[0] < 20:\n",
    "            continue\n",
    "        paths = genSeq(peaks)\n",
    "        seqs = [p for p in paths if len(p) > 10]\n",
    "        allSeqs += seqs\n",
    "        # for debug, draw Seqs tree\n",
    "        # drawSeq(peaks, seqs)\n",
    "        print('%s: %3d/%3d samples '%(region, di+1, len(sampleLocations)), end='\\r' if di+1 < len(sampleLocations) else '\\n')\n",
    "    fout = open(os.path.join(regionSeqsDir, region.replace('.shp', '.txt')), 'w') \n",
    "    for s in allSeqs:\n",
    "        fout.write(\" \".join([str(v) for v in s]))\n",
    "        fout.write('\\n')\n",
    "    fout.close()\n",
    "\n",
    "    print('%s: %3d samples, %3d sequences, %d s'%(region, len(sampleLocations), len(allSeqs), time.time() - st)) \n",
    "\n",
    "print('done!')"
   ]
  }
 ],
 "metadata": {
  "file_extension": ".py",
  "kernelspec": {
   "display_name": "Python 3",
   "language": "python",
   "name": "python3"
  },
  "language_info": {
   "codemirror_mode": {
    "name": "ipython",
    "version": 3
   },
   "file_extension": ".py",
   "mimetype": "text/x-python",
   "name": "python",
   "nbconvert_exporter": "python",
   "pygments_lexer": "ipython3",
   "version": "3.7.4-final"
  },
  "mimetype": "text/x-python",
  "name": "python",
  "npconvert_exporter": "python",
  "pygments_lexer": "ipython3",
  "version": 3
 },
 "nbformat": 4,
 "nbformat_minor": 4
}