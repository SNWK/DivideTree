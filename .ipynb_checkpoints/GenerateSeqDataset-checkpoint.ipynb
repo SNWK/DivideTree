{
 "nbformat": 4,
 "nbformat_minor": 2,
 "metadata": {
  "language_info": {
   "name": "python",
   "codemirror_mode": {
    "name": "ipython",
    "version": 3
   },
   "version": "3.7.4-final"
  },
  "orig_nbformat": 2,
  "file_extension": ".py",
  "mimetype": "text/x-python",
  "name": "python",
  "npconvert_exporter": "python",
  "pygments_lexer": "ipython3",
  "version": 3,
  "kernelspec": {
   "name": "python3",
   "display_name": "Python 3"
  }
 },
 "cells": [
  {
   "cell_type": "code",
   "execution_count": 1,
   "metadata": {},
   "outputs": [],
   "source": [
    "import os\n",
    "import shutil\n",
    "import subprocess\n",
    "import numpy as np\n",
    "import pandas as pd\n",
    "import matplotlib.pyplot as plt\n",
    "from utils.coords import *\n",
    "from utils.shapefiles import *\n",
    "from analysis.peaksdata import *\n",
    "import time\n",
    "from utils.divtree_gen import *\n",
    "from utils.seqdata_gen import *"
   ]
  },
  {
   "cell_type": "code",
   "execution_count": 3,
   "metadata": {},
   "outputs": [
    {
     "name": "stdout",
     "output_type": "stream",
     "text": "andes_peru.shp :  210 samples\nandes_peru.shp:   1/210 samplesandes_peru.shp:   2/210 samplesandes_peru.shp:   3/210 samplesandes_peru.shp:   4/210 samplesandes_peru.shp:   5/210 samplesandes_peru.shp:   6/210 samplesandes_peru.shp:   7/210 samplesandes_peru.shp:   8/210 samplesandes_peru.shp:   9/210 samplesandes_peru.shp:  10/210 samplesandes_peru.shp:  11/210 samplesandes_peru.shp:  12/210 samplesandes_peru.shp:  13/210 samplesandes_peru.shp:  14/210 samplesandes_peru.shp:  15/210 samplesandes_peru.shp:  16/210 samplesandes_peru.shp:  17/210 samplesandes_peru.shp:  18/210 samplesandes_peru.shp:  19/210 samplesandes_peru.shp:  20/210 samplesandes_peru.shp:  21/210 samplesandes_peru.shp:  22/210 samplesandes_peru.shp:  23/210 samplesandes_peru.shp:  24/210 samplesandes_peru.shp:  25/210 samplesandes_peru.shp:  26/210 samplesandes_peru.shp:  27/210 samplesandes_peru.shp:  28/210 samplesandes_peru.shp:  29/210 samplesandes_peru.shp:  30/210 samplesandes_peru.shp:  31/210 samplesandes_peru.shp:  32/210 samplesandes_peru.shp:  33/210 samplesandes_peru.shp:  34/210 samplesandes_peru.shp:  35/210 samplesandes_peru.shp:  36/210 samplesandes_peru.shp:  37/210 samplesandes_peru.shp:  38/210 samplesandes_peru.shp:  39/210 samplesandes_peru.shp:  40/210 samplesandes_peru.shp:  41/210 samplesandes_peru.shp:  42/210 samplesandes_peru.shp:  43/210 samplesandes_peru.shp:  44/210 samplesandes_peru.shp:  45/210 samplesandes_peru.shp:  46/210 samplesandes_peru.shp:  47/210 samplesandes_peru.shp:  48/210 samplesandes_peru.shp:  49/210 samplesandes_peru.shp:  50/210 samplesandes_peru.shp:  51/210 samplesandes_peru.shp:  52/210 samplesandes_peru.shp:  53/210 samplesandes_peru.shp:  54/210 samplesandes_peru.shp:  55/210 samplesandes_peru.shp:  56/210 samplesandes_peru.shp:  57/210 samplesandes_peru.shp:  58/210 samplesandes_peru.shp:  59/210 samplesandes_peru.shp:  60/210 samplesandes_peru.shp:  61/210 samplesandes_peru.shp:  62/210 samplesandes_peru.shp:  63/210 samplesandes_peru.shp:  64/210 samplesandes_peru.shp:  65/210 samplesandes_peru.shp:  66/210 samplesandes_peru.shp:  67/210 samplesandes_peru.shp:  68/210 samplesandes_peru.shp:  69/210 samplesandes_peru.shp:  70/210 samplesandes_peru.shp:  71/210 samplesandes_peru.shp:  72/210 samplesandes_peru.shp:  73/210 samplesandes_peru.shp:  74/210 samplesandes_peru.shp:  75/210 samplesandes_peru.shp:  76/210 samplesandes_peru.shp:  77/210 samplesandes_peru.shp:  78/210 samplesandes_peru.shp:  79/210 samplesandes_peru.shp:  80/210 samplesandes_peru.shp:  81/210 samplesandes_peru.shp:  82/210 samplesandes_peru.shp:  83/210 samplesandes_peru.shp:  84/210 samplesandes_peru.shp:  85/210 samplesandes_peru.shp:  86/210 samplesandes_peru.shp:  87/210 samplesandes_peru.shp:  88/210 samplesandes_peru.shp:  89/210 samplesandes_peru.shp:  90/210 samplesandes_peru.shp:  91/210 samplesandes_peru.shp:  92/210 samplesandes_peru.shp:  93/210 samplesandes_peru.shp:  94/210 samplesandes_peru.shp:  95/210 samplesandes_peru.shp:  96/210 samplesandes_peru.shp:  97/210 samplesandes_peru.shp:  98/210 samplesandes_peru.shp:  99/210 samplesandes_peru.shp: 100/210 samplesandes_peru.shp: 101/210 samplesandes_peru.shp: 102/210 samplesandes_peru.shp: 103/210 samplesandes_peru.shp: 104/210 samplesandes_peru.shp: 105/210 samplesandes_peru.shp: 106/210 samplesandes_peru.shp: 107/210 samplesandes_peru.shp: 108/210 samplesandes_peru.shp: 109/210 samplesandes_peru.shp: 110/210 samplesandes_peru.shp: 111/210 samplesandes_peru.shp: 112/210 samplesandes_peru.shp: 113/210 samplesandes_peru.shp: 114/210 samplesandes_peru.shp: 115/210 samplesandes_peru.shp: 116/210 samplesandes_peru.shp: 117/210 samplesandes_peru.shp: 118/210 samplesandes_peru.shp: 119/210 samplesandes_peru.shp: 120/210 samplesandes_peru.shp: 121/210 samplesandes_peru.shp: 122/210 samplesandes_peru.shp: 123/210 samplesandes_peru.shp: 124/210 samplesandes_peru.shp: 125/210 samplesandes_peru.shp: 126/210 samplesandes_peru.shp: 127/210 samplesandes_peru.shp: 128/210 samplesandes_peru.shp: 129/210 samplesandes_peru.shp: 130/210 samplesandes_peru.shp: 131/210 samplesandes_peru.shp: 132/210 samplesandes_peru.shp: 133/210 samplesandes_peru.shp: 134/210 samplesandes_peru.shp: 135/210 samplesandes_peru.shp: 136/210 samplesandes_peru.shp: 137/210 samplesandes_peru.shp: 138/210 samplesandes_peru.shp: 139/210 samplesandes_peru.shp: 140/210 samplesandes_peru.shp: 141/210 samplesandes_peru.shp: 142/210 samplesandes_peru.shp: 143/210 samplesandes_peru.shp: 144/210 samplesandes_peru.shp: 145/210 samplesandes_peru.shp: 146/210 samplesandes_peru.shp: 147/210 samplesandes_peru.shp: 148/210 samplesandes_peru.shp: 149/210 samplesandes_peru.shp: 150/210 samplesandes_peru.shp: 151/210 samplesandes_peru.shp: 152/210 samplesandes_peru.shp: 153/210 samplesandes_peru.shp: 154/210 samplesandes_peru.shp: 155/210 samplesandes_peru.shp: 156/210 samplesandes_peru.shp: 157/210 samplesandes_peru.shp: 158/210 samplesandes_peru.shp: 159/210 samplesandes_peru.shp: 160/210 samplesandes_peru.shp: 161/210 samplesandes_peru.shp: 162/210 samplesandes_peru.shp: 163/210 samplesandes_peru.shp: 164/210 samplesandes_peru.shp: 165/210 samplesandes_peru.shp: 166/210 samplesandes_peru.shp: 167/210 samplesandes_peru.shp: 168/210 samplesandes_peru.shp: 169/210 samplesandes_peru.shp: 170/210 samplesandes_peru.shp: 171/210 samplesandes_peru.shp: 172/210 samplesandes_peru.shp: 173/210 samplesandes_peru.shp: 174/210 samplesandes_peru.shp: 175/210 samplesandes_peru.shp: 176/210 samplesandes_peru.shp: 177/210 samplesandes_peru.shp: 178/210 samplesandes_peru.shp: 179/210 samplesandes_peru.shp: 180/210 samplesandes_peru.shp: 181/210 samplesandes_peru.shp: 182/210 samplesandes_peru.shp: 183/210 samplesandes_peru.shp: 184/210 samplesandes_peru.shp: 185/210 samplesandes_peru.shp: 186/210 samplesandes_peru.shp: 187/210 samplesandes_peru.shp: 188/210 samplesandes_peru.shp: 189/210 samplesandes_peru.shp: 190/210 samplesandes_peru.shp: 191/210 samplesandes_peru.shp: 192/210 samplesandes_peru.shp: 193/210 samplesandes_peru.shp: 194/210 samplesandes_peru.shp: 195/210 samplesandes_peru.shp: 196/210 samplesandes_peru.shp: 197/210 samplesandes_peru.shp: 198/210 samplesandes_peru.shp: 199/210 samplesandes_peru.shp: 200/210 samplesandes_peru.shp: 201/210 samplesandes_peru.shp: 202/210 samplesandes_peru.shp: 203/210 samplesandes_peru.shp: 204/210 samplesandes_peru.shp: 205/210 samplesandes_peru.shp: 206/210 samplesandes_peru.shp: 207/210 samplesandes_peru.shp: 208/210 samplesandes_peru.shp: 209/210 samplesandes_peru.shp: 210/210 samples \nandes_peru.shp: 210 samples, 17318 sequences, 1976 s\ndone!\n"
    }
   ],
   "source": [
    "# process each region (note: it takes a long time!)\n",
    "regionShapesDir = 'data/regionShapes'\n",
    "regionPeaksDir = 'data/regionPeaks'\n",
    "regionSeqsDir = 'data/regionSeqs'\n",
    "diskRadius = 30\n",
    "\n",
    "regionShapes = ['andes_peru.shp']\n",
    "\n",
    "for region in regionShapes:\n",
    "    st = time.time()\n",
    "    # sample stats locations inside polygon, separated at least 1/2 radius distance\n",
    "    sampleLocations = sampleShapefileLocations(os.path.join(regionShapesDir, region), diskRadius)\n",
    "    print(region, \": \", len(sampleLocations), \"samples\")\n",
    "    # region peaks DB\n",
    "    df = pd.read_csv(os.path.join(regionPeaksDir, region.replace('.shp', '.csv')))\n",
    "\n",
    "    allSeqs = []\n",
    "    # compute sequences\n",
    "    for di,diskCenter in enumerate(sampleLocations):\n",
    "        # filter peaks in disk using haversine distance\n",
    "        peaks = filterPeaksHaversineDist(df, diskCenter, diskRadius)\n",
    "        # skip if not enough peaks\n",
    "        if peaks.shape[0] < 20:\n",
    "            continue\n",
    "        paths = genSeq(peaks)\n",
    "        seqs = [p for p in paths if len(p) > 10]\n",
    "        allSeqs += seqs\n",
    "        # for debug, draw Seqs tree\n",
    "        # drawSeq(peaks, seqs)\n",
    "        print('%s: %3d/%3d samples '%(region, di+1, len(sampleLocations)), end='\\r' if di+1 < len(sampleLocations) else '\\n')\n",
    "    fout = open(os.path.join(regionSeqsDir, region.replace('.shp', '.txt')), 'w') \n",
    "    for s in allSeqs:\n",
    "        fout.write(\" \".join([str(v) for v in s]))\n",
    "        fout.write('\\n')\n",
    "    fout.close()\n",
    "\n",
    "    print('%s: %3d samples, %3d sequences, %d s'%(region, len(sampleLocations), len(allSeqs), time.time() - st)) \n",
    "\n",
    "print('done!')"
   ]
  }
 ]
}