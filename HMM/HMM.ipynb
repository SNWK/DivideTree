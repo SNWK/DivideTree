{
 "cells": [
  {
   "cell_type": "code",
   "execution_count": 2,
   "metadata": {},
   "outputs": [],
   "source": [
    "import numpy as np\n",
    "from hmmlearn import hmm"
   ]
  },
  {
   "cell_type": "code",
   "execution_count": 3,
   "metadata": {},
   "outputs": [
    {
     "name": "stderr",
     "output_type": "stream",
     "text": "Fitting a model with 14 free scalar parameters with only 9 data points will result in a degenerate solution.\n[[ 0.5 ]\n [ 1.  ]\n [-1.  ]\n [ 0.42]\n [ 0.24]\n [ 2.4 ]\n [ 4.2 ]\n [ 0.5 ]\n [-0.24]]\n[2 0 0 2 0 1 1 2 0]\n"
    }
   ],
   "source": [
    "np.random.seed(42)\n",
    "\n",
    "# model = hmm.GaussianHMM(n_components=3, covariance_type=\"full\")\n",
    "# model.startprob_ = np.array([0.6, 0.3, 0.1])\n",
    "# model.transmat_ = np.array([[0.7, 0.2, 0.1],\n",
    "#                             [0.3, 0.5, 0.2],\n",
    "#                             [0.3, 0.3, 0.4]])\n",
    "# model.means_ = np.array([[0.0, 0.0], [3.0, -3.0], [5.0, 10.0]])\n",
    "# model.covars_ = np.tile(np.identity(2), (3, 1, 1))\n",
    "# X, Z = model.sample(100)\n",
    "\n",
    "# lr = hmm.GaussianHMM(n_components=3, covariance_type=\"diag\",\n",
    "#                      init_params=\"cm\", params=\"cmt\")\n",
    "# lr.startprob_ = np.array([1.0, 0.0, 0.0])\n",
    "# lr.transmat_ = np.array([[0.5, 0.5, 0.0],\n",
    "#                          [0.0, 0.5, 0.5],\n",
    "#                          [0.0, 0.0, 1.0]])\n",
    "\n",
    "X1 = [[0.5], [1.0], [-1.0], [0.42], [0.24]]\n",
    "X2 = [[2.4], [4.2], [0.5], [-0.24]]\n",
    "\n",
    "X = np.concatenate([X1, X2])\n",
    "print(X)\n",
    "lengths = [len(X1), len(X2)]\n",
    "lr = hmm.GaussianHMM(n_components=3).fit(X, lengths)\n",
    "a =  lr.predict(X, lengths)\n",
    "print(a)"
   ]
  }
 ],
 "metadata": {
  "kernelspec": {
   "display_name": "Python pytorch 0.4.0",
   "language": "python",
   "name": "pytorch"
  },
  "language_info": {
   "codemirror_mode": {
    "name": "ipython",
    "version": 3
   },
   "file_extension": ".py",
   "mimetype": "text/x-python",
   "name": "python",
   "nbconvert_exporter": "python",
   "pygments_lexer": "ipython3",
   "version": "3.7.4-final"
  }
 },
 "nbformat": 4,
 "nbformat_minor": 4
}