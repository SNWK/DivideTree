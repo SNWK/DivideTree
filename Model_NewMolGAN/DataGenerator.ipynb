{
 "metadata": {
  "language_info": {
   "codemirror_mode": {
    "name": "ipython",
    "version": 3
   },
   "file_extension": ".py",
   "mimetype": "text/x-python",
   "name": "python",
   "nbconvert_exporter": "python",
   "pygments_lexer": "ipython3",
   "version": "3.6.10-final"
  },
  "orig_nbformat": 2,
  "kernelspec": {
   "name": "python361064bitdividetreeconda581e7adc61b94b7ba8ca962bf3e17e5c",
   "display_name": "Python 3.6.10 64-bit ('dividetree': conda)"
  }
 },
 "nbformat": 4,
 "nbformat_minor": 2,
 "cells": [
  {
   "source": [
    "# Data generator"
   ],
   "cell_type": "markdown",
   "metadata": {}
  },
  {
   "source": [
    "Extract data from the dataset ('dataGAN/data20.pkl'):"
   ],
   "cell_type": "markdown",
   "metadata": {}
  },
  {
   "cell_type": "code",
   "execution_count": 1,
   "metadata": {
    "tags": []
   },
   "outputs": [
    {
     "output_type": "stream",
     "name": "stderr",
     "text": "12it [00:00, 106.07it/s]andes_peru.shp :  3716 samples\n-78.3892 -71.3783 -16.16 -7.865 173.73600000000002 6735.7752 30.7848 2763.012 0.005143981037873821 0.7036450079239303 0.05002864101497931 2207.6431\n3716it [00:40, 91.94it/s]\n1205 15.408298755186722\n12it [00:00, 115.80it/s]andes_peru.shp :  3723 samples\n-78.3892 -71.3783 -16.16 -7.865 173.73600000000002 6735.7752 30.7848 2763.012 0.005143981037873821 0.7036450079239303 0.05000108948333203 2207.6431\n3723it [00:40, 91.36it/s]\n1197 15.48454469507101\n"
    }
   ],
   "source": [
    "from generateDataset import generate\n",
    "generate(filepath)"
   ]
  },
  {
   "source": [
    "Process the generated data to fix the molgan model, ('dataGAN/20nodesnew.sparsedataset')"
   ],
   "cell_type": "markdown",
   "metadata": {}
  },
  {
   "cell_type": "code",
   "execution_count": 1,
   "metadata": {
    "tags": []
   },
   "outputs": [
    {
     "output_type": "stream",
     "name": "stdout",
     "text": "2020-09-24 15:19:59 Extracting dataGAN/data31.pkl..\n2020-09-24 15:19:59 Extracted 2000 \n2020-09-24 15:19:59 Creating atoms encoder and decoder..\n2020-09-24 15:19:59 Created atoms encoder and decoder with 3 atom types and 1 PAD symbol!\n2020-09-24 15:19:59 Creating bonds encoder and decoder..\n{0: 0, 1: 1} {0: 0, 1: 1}\n2020-09-24 15:19:59 Created bonds encoder and decoder with 1 bond types and 1 PAD symbol!\n2020-09-24 15:19:59 Creating features and adjacency matrices..\n31\n\n2020-09-24 15:20:00 Created 2000 features and adjacency matrices  out of 2000 molecules!\n2020-09-24 15:20:00 Creating train, validation and test sets..\n2020-09-24 15:20:00 Created train (1600 items), validation (200 items) and test (200 items) sets!\n"
    }
   ],
   "source": [
    "from dataGAN.sparse_molecular_dataset import SparseMolecularDataset\n",
    "data = SparseMolecularDataset()\n",
    "data.generate('dataGAN/data31.pkl')\n",
    "data.save('dataGAN/31nodes.sparsedataset')"
   ]
  },
  {
   "cell_type": "code",
   "execution_count": null,
   "metadata": {},
   "outputs": [],
   "source": []
  }
 ]
}