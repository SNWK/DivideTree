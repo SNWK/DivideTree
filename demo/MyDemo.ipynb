{
 "cells": [
  {
   "cell_type": "code",
   "execution_count": 1,
   "metadata": {},
   "outputs": [],
   "source": [
    "import os\n",
    "os.chdir('./demo/')\n",
    "import torch\n",
    "import shutil\n",
    "import subprocess\n",
    "import numpy as np\n",
    "import pandas as pd\n",
    "import matplotlib.pyplot as plt\n",
    "import time\n",
    "from helpers import read_file"
   ]
  },
  {
   "cell_type": "markdown",
   "metadata": {},
   "source": [
    "Train"
   ]
  },
  {
   "cell_type": "code",
   "execution_count": 2,
   "metadata": {},
   "outputs": [],
   "source": [
    "def drawResult(path):\n",
    "    x = [v[0] for v in path]\n",
    "    y = [v[1] for v in path]\n",
    "    for point in path:\n",
    "        plt.scatter(x, y, color='b')\n",
    "    X = []\n",
    "    Y = []\n",
    "    for i in range(len(path) - 1):\n",
    "        X.append([x[i], x[i+1]])\n",
    "        Y.append([y[i], y[i+1]])\n",
    "    for i in range(len(X)):\n",
    "        plt.plot(X[i], Y[i], color='r')\n",
    "    \n",
    "def change2path(change):\n",
    "    path = [[0,0]]\n",
    "    for i in range(len(change)):\n",
    "        path.append([path[-1][0] + change[i][0], path[-1][1] + change[i][1]])\n",
    "    return path"
   ]
  },
  {
   "cell_type": "code",
   "execution_count": 3,
   "metadata": {},
   "outputs": [
    {
     "data": {
      "image/png": "[encoded data removed]",
      "text/plain": [
       "<Figure size 432x288 with 1 Axes>"
      ]
     },
     "metadata": {
      "needs_background": "light"
     },
     "output_type": "display_data"
    },
    {
     "data": {
      "text/plain": [
       "<Figure size 432x288 with 0 Axes>"
      ]
     },
     "metadata": {},
     "output_type": "display_data"
    }
   ],
   "source": [
    "demoDataDir = '../data/demoData/demotest1.txt'\n",
    "allSeq, allSeqLen= read_file(demoDataDir)\n",
    "for i in range(10):\n",
    "    drawResult(change2path(allSeq[i]))\n",
    "plt.scatter([0,0], [0,0], color='y')\n",
    "plt.gca().set_aspect(\"equal\")\n",
    "plt.show()\n",
    "plt.clf()"
   ]
  },
  {
   "cell_type": "code",
   "execution_count": 12,
   "metadata": {},
   "outputs": [
    {
     "name": "stdout",
     "output_type": "stream",
     "text": [
      "/home/e/e0509826/DivideTree/demo\n"
     ]
    },
    {
     "name": "stderr",
     "output_type": "stream",
     "text": [
      "/home/e/e0509826/DivideTree/demo/model.py:30: UserWarning: RNN module weights are not part of single contiguous chunk of memory. This means they need to be compacted at every call, possibly greatly increasing memory usage. To compact weights again call flatten_parameters().\n",
      "  output, hidden = self.rnn(encoded.view(1, batch_size, -1), hidden)\n"
     ]
    },
    {
     "data": {
      "image/png": "[encoded data removed]",
      "text/plain": [
       "<Figure size 432x288 with 1 Axes>"
      ]
     },
     "metadata": {
      "needs_background": "light"
     },
     "output_type": "display_data"
    },
    {
     "data": {
      "text/plain": [
       "<Figure size 432x288 with 0 Axes>"
      ]
     },
     "metadata": {},
     "output_type": "display_data"
    }
   ],
   "source": [
    "\n",
    "from generate import dfsaTree\n",
    "\n",
    "print(os.getcwd())\n",
    "pt = \"../demo/andes_peru.pt\"\n",
    "# resultTree = generateTree(decoder, predict_len=10, cuda=True)\n",
    "result = dfsaTree([], [0, 0.001], pt, 0.175, True)\n",
    "resultTree = []\n",
    "for path in result:\n",
    "    tmp = [[0,0]]\n",
    "    for p in range(len(path)):\n",
    "        if p != 0:\n",
    "            tmp.append([tmp[-1][0] + path[p][0], tmp[-1][1] + path[p][1]])\n",
    "    resultTree.append(tmp)\n",
    "    \n",
    "for p in resultTree:\n",
    "    drawResult(p)\n",
    "plt.scatter([0,0], [0,0], color='y')\n",
    "plt.gca().set_aspect(\"equal\")\n",
    "plt.savefig(\"1.png\")\n",
    "plt.show()\n",
    "plt.clf()\n"
   ]
  },
  {
   "cell_type": "code",
   "execution_count": 5,
   "metadata": {},
   "outputs": [
    {
     "name": "stdout",
     "output_type": "stream",
     "text": [
      "[]\n"
     ]
    }
   ],
   "source": [
    "print(resultTree)"
   ]
  },
  {
   "cell_type": "code",
   "execution_count": null,
   "metadata": {},
   "outputs": [],
   "source": []
  }
 ],
 "metadata": {
  "kernelspec": {
   "display_name": "Python pytorch 0.4.0",
   "language": "python",
   "name": "pytorch"
  },
  "language_info": {
   "codemirror_mode": {
    "name": "ipython",
    "version": 3
   },
   "file_extension": ".py",
   "mimetype": "text/x-python",
   "name": "python",
   "nbconvert_exporter": "python",
   "pygments_lexer": "ipython3",
   "version": "3.6.10"
  }
 },
 "nbformat": 4,
 "nbformat_minor": 4
}
