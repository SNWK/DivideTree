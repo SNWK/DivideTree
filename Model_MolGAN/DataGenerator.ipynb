{
 "metadata": {
  "language_info": {
   "codemirror_mode": {
    "name": "ipython",
    "version": 3
   },
   "file_extension": ".py",
   "mimetype": "text/x-python",
   "name": "python",
   "nbconvert_exporter": "python",
   "pygments_lexer": "ipython3",
   "version": "3.6.10-final"
  },
  "orig_nbformat": 2,
  "kernelspec": {
   "name": "python361064bitdividetreeconda581e7adc61b94b7ba8ca962bf3e17e5c",
   "display_name": "Python 3.6.10 64-bit ('dividetree': conda)"
  }
 },
 "nbformat": 4,
 "nbformat_minor": 2,
 "cells": [
  {
   "source": [
    "# Data generator"
   ],
   "cell_type": "markdown",
   "metadata": {}
  },
  {
   "source": [
    "Extract data from the dataset ('dataGAN/data20.pkl'):"
   ],
   "cell_type": "markdown",
   "metadata": {}
  },
  {
   "cell_type": "code",
   "execution_count": 1,
   "metadata": {
    "tags": []
   },
   "outputs": [
    {
     "output_type": "stream",
     "name": "stderr",
     "text": "11it [00:00, 105.94it/s]andes_peru.shp :  3725 samples\n-78.3892 -71.3783 -16.16 -7.865 173.73600000000002 6735.7752 30.7848 2763.012 0.005143981037873821 0.7036450079239303 0.05010722635043157 2207.6431\n3725it [00:39, 93.21it/s]\n1182 15.467005076142131\n11it [00:00, 97.65it/s]andes_peru.shp :  3719 samples\n-78.3892 -71.3783 -16.16 -7.865 173.73600000000002 6735.7752 30.7848 2763.012 0.005143981037873821 0.7036450079239303 0.05001810313781841 2207.6431\n3719it [00:40, 92.46it/s]\n1167 15.491002570694087\n"
    }
   ],
   "source": [
    "from generateDataset import generate\n",
    "generate()"
   ]
  },
  {
   "source": [
    "Process the generated data to fix the molgan model, ('dataGAN/20nodesnew.sparsedataset')"
   ],
   "cell_type": "markdown",
   "metadata": {}
  },
  {
   "cell_type": "code",
   "execution_count": 2,
   "metadata": {
    "tags": []
   },
   "outputs": [
    {
     "output_type": "stream",
     "name": "stdout",
     "text": "2020-09-17 19:51:31 Extracting dataGAN/data20.pkl..\n2020-09-17 19:51:31 Extracted 1167 \n2020-09-17 19:51:31 Creating atoms encoder and decoder..\n2020-09-17 19:51:31 Created atoms encoder and decoder with 5 atom types and 1 PAD symbol!\n2020-09-17 19:51:31 Creating bonds encoder and decoder..\n2020-09-17 19:51:31 Created bonds encoder and decoder with 1 bond types and 1 PAD symbol!\n2020-09-17 19:51:31 Creating features and adjacency matrices..\n20\n\n2020-09-17 19:51:32 Created 1167 features and adjacency matrices  out of 1167 molecules!\n2020-09-17 19:51:32 Creating train, validation and test sets..\n2020-09-17 19:51:32 Created train (935 items), validation (116 items) and test (116 items) sets!\n"
    }
   ],
   "source": [
    "from dataGAN.sparse_molecular_dataset import SparseMolecularDataset\n",
    "data = SparseMolecularDataset()\n",
    "data.generate('dataGAN/data20.pkl')\n",
    "data.save('dataGAN/20nodesnew.sparsedataset')"
   ]
  }
 ]
}