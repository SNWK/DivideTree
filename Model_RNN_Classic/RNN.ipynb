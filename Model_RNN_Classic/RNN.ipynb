{
 "cells": [
  {
   "cell_type": "code",
   "execution_count": 1,
   "metadata": {},
   "outputs": [],
   "source": [
    "import sys\n",
    "sys.path.append(\"..\")\n",
    "import torch\n",
    "import shutil\n",
    "import subprocess\n",
    "import numpy as np\n",
    "import pandas as pd\n",
    "import matplotlib.pyplot as plt\n",
    "import time\n",
    "from helpers import read_file\n",
    "\n",
    "from tqdm import tqdm\n",
    "\n",
    "from helpers import *\n",
    "from model import *\n",
    "from generate import *"
   ]
  },
  {
   "cell_type": "markdown",
   "metadata": {},
   "source": [
    "## Train command"
   ]
  },
  {
   "cell_type": "code",
   "execution_count": 2,
   "metadata": {},
   "outputs": [
    {
     "name": "stdout",
     "output_type": "stream",
     "text": "python train.py ../data/regionTreeSeqs/andes_perulittle.txt --model lstm --n_epochs 10000 --print_every 500 --hidden_size 256 --n_layers 2 --learning_rate 0.001000 --chunk_len 9 --batch_size 50 --cuda\n"
    }
   ],
   "source": [
    "filename = '../data/regionTreeSeqs/andes_perulittle.txt'\n",
    "model = 'lstm'\n",
    "n_epochs = 10000\n",
    "print_every = 500\n",
    "hidden_size = 256\n",
    "n_layers = 2\n",
    "learning_rate = 1e-3\n",
    "chunk_len = 9\n",
    "batch_size = 50\n",
    "\n",
    "train_command = \"python train.py %s --model %s --n_epochs %d --print_every %d --hidden_size %d --n_layers %d --learning_rate %f --chunk_len %d --batch_size %d --cuda\" % (filename, model, n_epochs, print_every, hidden_size, n_layers, learning_rate, chunk_len, batch_size)\n",
    "print(train_command)\n",
    "\n",
    "# subprocess.call(train_command, shell=True) "
   ]
  },
  {
   "cell_type": "markdown",
   "metadata": {},
   "source": [
    "## Real Divide Tree Example"
   ]
  },
  {
   "cell_type": "code",
   "execution_count": 2,
   "metadata": {},
   "outputs": [],
   "source": [
    "def drawResult(path):\n",
    "    x = [v[0] for v in path]\n",
    "    y = [v[1] for v in path]\n",
    "    for point in path:\n",
    "        plt.scatter(x, y, color='b')\n",
    "    X = []\n",
    "    Y = []\n",
    "    for i in range(len(path) - 1):\n",
    "        X.append([x[i], x[i+1]])\n",
    "        Y.append([y[i], y[i+1]])\n",
    "    for i in range(len(X)):\n",
    "        plt.plot(X[i], Y[i], color='r')\n",
    "    \n",
    "def change2path(change):\n",
    "    path = [[0,0]]\n",
    "    for i in range(len(change)):\n",
    "        path.append([path[-1][0] + change[i][0], path[-1][1] + change[i][1]])\n",
    "    return path"
   ]
  },
  {
   "cell_type": "code",
   "execution_count": 3,
   "metadata": {},
   "outputs": [
    {
     "data": {
      "image/png": "[encoded data removed]",
      "text/plain": [
       "<Figure size 432x288 with 1 Axes>"
      ]
     },
     "metadata": {
      "needs_background": "light"
     },
     "output_type": "display_data"
    },
    {
     "data": {
      "text/plain": [
       "<Figure size 432x288 with 0 Axes>"
      ]
     },
     "metadata": {},
     "output_type": "display_data"
    }
   ],
   "source": [
    "demoDataDir = '../data/demoData/demotest1.txt'\n",
    "allSeq, allSeqLen= read_file(demoDataDir)\n",
    "for i in range(10):\n",
    "    drawResult(change2path(allSeq[i]))\n",
    "plt.scatter([0,0], [0,0], color='y')\n",
    "plt.gca().set_aspect(\"equal\")\n",
    "plt.show()\n",
    "plt.clf()"
   ]
  }
 ],
 "metadata": {
  "kernelspec": {
   "display_name": "Python pytorch 0.4.0",
   "language": "python",
   "name": "pytorch"
  },
  "language_info": {
   "codemirror_mode": {
    "name": "ipython",
    "version": 3
   },
   "file_extension": ".py",
   "mimetype": "text/x-python",
   "name": "python",
   "nbconvert_exporter": "python",
   "pygments_lexer": "ipython3",
   "version": "3.6.9-final"
  }
 },
 "nbformat": 4,
 "nbformat_minor": 4
}